{
 "cells": [
  {
   "cell_type": "markdown",
   "id": "4b505b44",
   "metadata": {},
   "source": [
    "## Library Import\n",
    "- numpy\n",
    "- matplotlib\n",
    "- sklearn"
   ]
  },
  {
   "cell_type": "code",
   "execution_count": 2,
   "id": "general-vessel",
   "metadata": {},
   "outputs": [],
   "source": [
    "import numpy as np\n",
    "import matplotlib\n",
    "import matplotlib.pyplot as plt\n",
    "from sklearn import linear_model"
   ]
  },
  {
   "cell_type": "markdown",
   "id": "097fc889",
   "metadata": {},
   "source": [
    "## Prepair Dataset\n",
    "Create random numbers that name is X and y.  \n",
    "X and y is 15dim vector."
   ]
  },
  {
   "cell_type": "code",
   "execution_count": 3,
   "id": "reasonable-contributor",
   "metadata": {},
   "outputs": [],
   "source": [
    "# Random data\n",
    "X = np.array([[2,5,7,9,11,16,19,23,22,29,29,35,37,40,46]]).T\n",
    "y = np.array([[2,3,4,5,6,7,8,9,10,11,12,13,14,15,16]]).T"
   ]
  },
  {
   "cell_type": "markdown",
   "id": "f397f057",
   "metadata": {},
   "source": [
    "## LinearRegression Model Fitting\n",
    "Model Expression is bellow.\n",
    "$$\n",
    "y = ax + b\n",
    "$$\n",
    "a is coefficient. b is intercept.  "
   ]
  },
  {
   "cell_type": "code",
   "execution_count": 14,
   "id": "excellent-legend",
   "metadata": {},
   "outputs": [
    {
     "name": "stdout",
     "output_type": "stream",
     "text": [
      "[1.88039364]\n",
      "[[0.32361847]]\n"
     ]
    }
   ],
   "source": [
    "# Create model\n",
    "lr = linear_model.LinearRegression()\n",
    "# Fit (train the model)\n",
    "lr.fit(A,b)\n",
    "# y = ax+b, a: coefficient, b: intercept\n",
    "print(lr.intercept_)\n",
    "print(lr.coef_)"
   ]
  },
  {
   "cell_type": "markdown",
   "id": "24a75295",
   "metadata": {},
   "source": [
    "### Above values\n",
    "The first value is intercept. The value is b.  \n",
    "The second value is coefficient. The value is a."
   ]
  },
  {
   "cell_type": "markdown",
   "id": "58bc2b3c",
   "metadata": {},
   "source": [
    "## Plot Dataset\n",
    "x-axis is X.  \n",
    "y-axis is y."
   ]
  },
  {
   "cell_type": "code",
   "execution_count": 4,
   "id": "under-malawi",
   "metadata": {},
   "outputs": [
    {
     "data": {
      "text/plain": [
       "[<matplotlib.lines.Line2D at 0x179a8daecd0>]"
      ]
     },
     "execution_count": 4,
     "metadata": {},
     "output_type": "execute_result"
    },
    {
     "data": {
      "image/png": "[encoded data removed]",
      "text/plain": [
       "<Figure size 432x288 with 1 Axes>"
      ]
     },
     "metadata": {
      "needs_background": "light"
     },
     "output_type": "display_data"
    }
   ],
   "source": [
    "# Draw random data\n",
    "plt.plot(X,y,'ro')"
   ]
  },
  {
   "cell_type": "markdown",
   "id": "4eb5e6bd",
   "metadata": {},
   "source": [
    "The plot looks upward."
   ]
  },
  {
   "cell_type": "markdown",
   "id": "facb52a4",
   "metadata": {},
   "source": [
    "## Plot the regression equation"
   ]
  },
  {
   "cell_type": "code",
   "execution_count": 6,
   "id": "minor-scott",
   "metadata": {},
   "outputs": [],
   "source": [
    "# Draw line\n",
    "x0 = np.array([[1,46]]).T\n",
    "y0 = x0*lr.coef_ + lr.intercept_"
   ]
  },
  {
   "cell_type": "code",
   "execution_count": 13,
   "id": "changed-elder",
   "metadata": {},
   "outputs": [
    {
     "data": {
      "image/png": "[encoded data removed]",
      "text/plain": [
       "<Figure size 432x288 with 1 Axes>"
      ]
     },
     "metadata": {
      "needs_background": "light"
     },
     "output_type": "display_data"
    }
   ],
   "source": [
    "plt.plot(x0,y0, 'ro')\n",
    "plt.plot(x0,y0)\n",
    "plt.show()"
   ]
  },
  {
   "cell_type": "markdown",
   "id": "af800313",
   "metadata": {},
   "source": [
    "The regression plot is similar to the dataset plot.  \n",
    "And the coefficient and intercept were obtained.  \n",
    "The regression model is a good representation of the dataset."
   ]
  }
 ],
 "metadata": {
  "kernelspec": {
   "display_name": "Python 3",
   "language": "python",
   "name": "python3"
  },
  "language_info": {
   "codemirror_mode": {
    "name": "ipython",
    "version": 3
   },
   "file_extension": ".py",
   "mimetype": "text/x-python",
   "name": "python",
   "nbconvert_exporter": "python",
   "pygments_lexer": "ipython3",
   "version": "3.8.5"
  },
  "vscode": {
   "interpreter": {
    "hash": "d7bca6c61252fe1715341e925e38c940ba31bf1bc46c437c20b107b9482011ac"
   }
  }
 },
 "nbformat": 4,
 "nbformat_minor": 5
}
