{
 "cells": [
  {
   "cell_type": "code",
   "execution_count": 9,
   "id": "general-vessel",
   "metadata": {},
   "outputs": [],
   "source": [
    "import numpy as np\n",
    "import matplotlib\n",
    "import matplotlib.pyplot as plt\n",
    "from sklearn import linear_model"
   ]
  },
  {
   "cell_type": "code",
   "execution_count": 2,
   "id": "reasonable-contributor",
   "metadata": {},
   "outputs": [],
   "source": [
    "# Random data\n",
    "A = np.array([[2,5,7,9,11,16,19,23,22,29,29,35,37,40,46]]).T\n",
    "b = np.array([[2,3,4,5,6,7,8,9,10,11,12,13,14,15,16]]).T"
   ]
  },
  {
   "cell_type": "code",
   "execution_count": 14,
   "id": "excellent-legend",
   "metadata": {},
   "outputs": [
    {
     "name": "stdout",
     "output_type": "stream",
     "text": [
      "[1.88039364]\n",
      "[[0.32361847]]\n"
     ]
    }
   ],
   "source": [
    "# Create model\n",
    "lr = linear_model.LinearRegression()\n",
    "# Fit (train the model)\n",
    "lr.fit(A,b)\n",
    "# y = ax+b, a: coefficient, b: intercept\n",
    "print(lr.intercept_)\n",
    "print(lr.coef_)"
   ]
  },
  {
   "cell_type": "code",
   "execution_count": 5,
   "id": "under-malawi",
   "metadata": {},
   "outputs": [
    {
     "data": {
      "text/plain": [
       "[<matplotlib.lines.Line2D at 0x2614f950790>]"
      ]
     },
     "execution_count": 5,
     "metadata": {},
     "output_type": "execute_result"
    },
    {
     "data": {
      "image/png": "[encoded data removed]",
      "text/plain": [
       "<Figure size 432x288 with 1 Axes>"
      ]
     },
     "metadata": {
      "needs_background": "light"
     },
     "output_type": "display_data"
    }
   ],
   "source": [
    "# Draw random data\n",
    "plt.plot(A,b,'ro')"
   ]
  },
  {
   "cell_type": "code",
   "execution_count": 6,
   "id": "minor-scott",
   "metadata": {},
   "outputs": [],
   "source": [
    "# Draw line\n",
    "x0 = np.array([[1,46]]).T\n",
    "y0 = x0*lr.coef_ + lr.intercept_"
   ]
  },
  {
   "cell_type": "code",
   "execution_count": 13,
   "id": "changed-elder",
   "metadata": {},
   "outputs": [
    {
     "data": {
      "image/png": "[encoded data removed]",
      "text/plain": [
       "<Figure size 432x288 with 1 Axes>"
      ]
     },
     "metadata": {
      "needs_background": "light"
     },
     "output_type": "display_data"
    }
   ],
   "source": [
    "plt.plot(x0,y0, 'ro')\n",
    "plt.plot(x0,y0)\n",
    "plt.show()"
   ]
  }
 ],
 "metadata": {
  "kernelspec": {
   "display_name": "Python 3",
   "language": "python",
   "name": "python3"
  },
  "language_info": {
   "codemirror_mode": {
    "name": "ipython",
    "version": 3
   },
   "file_extension": ".py",
   "mimetype": "text/x-python",
   "name": "python",
   "nbconvert_exporter": "python",
   "pygments_lexer": "ipython3",
   "version": "3.8.5"
  }
 },
 "nbformat": 4,
 "nbformat_minor": 5
}
