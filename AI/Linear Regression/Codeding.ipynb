{
 "cells": [
  {
   "cell_type": "markdown",
   "id": "artistic-remedy",
   "metadata": {},
   "source": [
    "## Library Import\n",
    "- numpy\n",
    "- matplotlib\n",
    "- sklearn"
   ]
  },
  {
   "cell_type": "code",
   "execution_count": 2,
   "id": "proof-progress",
   "metadata": {},
   "outputs": [],
   "source": [
    "import numpy as np\n",
    "import matplotlib\n",
    "import matplotlib.pyplot as plt"
   ]
  },
  {
   "cell_type": "markdown",
   "id": "arabic-bangladesh",
   "metadata": {},
   "source": [
    "## Prepair Dataset\n",
    "Create random numbers that name is A and b.  \n",
    "X and y is 15dim vector."
   ]
  },
  {
   "cell_type": "code",
   "execution_count": 3,
   "id": "french-absence",
   "metadata": {},
   "outputs": [],
   "source": [
    "# random data\n",
    "A = np.array([[2,5,7,9,11,16,9,23,22,29,29,35,37,40,46]]).T #T: Change row vector to column vector\n",
    "b = np.array([[2,3,4,5,6,7,8,9,10,11,12,13,14,15,16]]).T"
   ]
  },
  {
   "cell_type": "code",
   "execution_count": 4,
   "id": "supported-signature",
   "metadata": {},
   "outputs": [
    {
     "data": {
      "text/plain": [
       "[<matplotlib.lines.Line2D at 0x1ecfff39850>]"
      ]
     },
     "execution_count": 4,
     "metadata": {},
     "output_type": "execute_result"
    },
    {
     "data": {
      "image/png": "[encoded data removed]",
      "text/plain": [
       "<Figure size 432x288 with 1 Axes>"
      ]
     },
     "metadata": {
      "needs_background": "light"
     },
     "output_type": "display_data"
    }
   ],
   "source": [
    "plt.plot(A,b, 'ro')"
   ]
  },
  {
   "cell_type": "markdown",
   "id": "tracked-springfield",
   "metadata": {},
   "source": [
    "## Convert data and calculate by formula\n",
    "Create vectơ 1"
   ]
  },
  {
   "cell_type": "code",
   "execution_count": 5,
   "id": "distributed-awareness",
   "metadata": {},
   "outputs": [],
   "source": [
    "ones = np.ones((A.shape[0],1), dtype=np.int8)"
   ]
  },
  {
   "cell_type": "markdown",
   "id": "black-concord",
   "metadata": {},
   "source": [
    "Combine vectơ 1 and vectơ A"
   ]
  },
  {
   "cell_type": "code",
   "execution_count": 6,
   "id": "spoken-queen",
   "metadata": {},
   "outputs": [],
   "source": [
    "A = np.concatenate((A, ones), axis =1) #axis: combine shape x x 2"
   ]
  },
  {
   "cell_type": "markdown",
   "id": "hundred-interaction",
   "metadata": {},
   "source": [
    "Use fomular **x = ((A^T*A)^-1)*A^T*b**\n",
    "\n",
    "*inv*: inverse, *transpose*: transform, *dot*: multiply vectơ"
   ]
  },
  {
   "cell_type": "code",
   "execution_count": 7,
   "id": "accredited-cosmetic",
   "metadata": {},
   "outputs": [
    {
     "name": "stdout",
     "output_type": "stream",
     "text": [
      "[2.39852135]\n",
      "[0.30944431]\n"
     ]
    }
   ],
   "source": [
    "x = np.linalg.inv(A.transpose().dot(A)).dot(A.transpose()).dot(b) \n",
    "print(x[0])\n",
    "print(x[1])"
   ]
  },
  {
   "cell_type": "markdown",
   "id": "numeric-thickness",
   "metadata": {},
   "source": [
    "### Above values\n",
    "The first value is coefficient. The value is a (x[0][0]).  \n",
    "The second value is intercept. The value is b (x[1][0])."
   ]
  },
  {
   "cell_type": "markdown",
   "id": "attached-equilibrium",
   "metadata": {},
   "source": [
    "## Plot the regression equation"
   ]
  },
  {
   "cell_type": "code",
   "execution_count": 8,
   "id": "individual-debate",
   "metadata": {},
   "outputs": [
    {
     "data": {
      "text/plain": [
       "[<matplotlib.lines.Line2D at 0x1ec8f010610>]"
      ]
     },
     "execution_count": 8,
     "metadata": {},
     "output_type": "execute_result"
    },
    {
     "data": {
      "image/png": "[encoded data removed]",
      "text/plain": [
       "<Figure size 432x288 with 1 Axes>"
      ]
     },
     "metadata": {
      "needs_background": "light"
     },
     "output_type": "display_data"
    }
   ],
   "source": [
    "# Test data to draw\n",
    "x0 = np.array([[1,46]]).T #x\n",
    "y0 = x0*x[0][0] + x[1][0] #y = ax+b\n",
    "plt.plot(x0,y0, 'ro')\n",
    "plt.plot(x0,y0)\n"
   ]
  }
 ],
 "metadata": {
  "kernelspec": {
   "display_name": "Python 3",
   "language": "python",
   "name": "python3"
  },
  "language_info": {
   "codemirror_mode": {
    "name": "ipython",
    "version": 3
   },
   "file_extension": ".py",
   "mimetype": "text/x-python",
   "name": "python",
   "nbconvert_exporter": "python",
   "pygments_lexer": "ipython3",
   "version": "3.8.5"
  }
 },
 "nbformat": 4,
 "nbformat_minor": 5
}
